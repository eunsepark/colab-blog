{
  "nbformat": 4,
  "nbformat_minor": 0,
  "metadata": {
    "colab": {
      "name": "2021_07_05_데이터분석Untitled0.ipynb",
      "provenance": [],
      "toc_visible": true
    },
    "kernelspec": {
      "name": "python3",
      "display_name": "Python 3"
    },
    "language_info": {
      "name": "python"
    }
  },
  "cells": [
    {
      "cell_type": "markdown",
      "metadata": {
        "id": "FYwbL488MPRv"
      },
      "source": [
        "# '데이터 분석 Python 기초 문법 노트북'\n",
        "\"2021년 여름방학데이터분석을 위한 Python 기초문법\"\n",
        "\n",
        "- toc:ture\n",
        "- branch: master\n",
        "- badges: true\n",
        "- comments: true\n",
        "- author: parkeunse\n",
        "- cetegories: [python. 데이터분석]"
      ]
    },
    {
      "cell_type": "code",
      "metadata": {
        "colab": {
          "base_uri": "https://localhost:8080/"
        },
        "id": "IM_rtWv4Xzcd",
        "outputId": "9462f4e4-b445-4be4-d709-584bbc585540"
      },
      "source": [
        "x=3\n",
        "y=7\n",
        "x+y"
      ],
      "execution_count": null,
      "outputs": [
        {
          "output_type": "execute_result",
          "data": {
            "text/plain": [
              "10"
            ]
          },
          "metadata": {
            "tags": []
          },
          "execution_count": 2
        }
      ]
    },
    {
      "cell_type": "markdown",
      "metadata": {
        "id": "art7_Se3YPg1"
      },
      "source": [
        "# 마크다운\n",
        "## 마크다운\n",
        "### 마크다운\n",
        "\n",
        "\n",
        "* hello world\n",
        "* hello world\n",
        "* hello world\n",
        "\n",
        "\n",
        "1. hello  world\n",
        "1. hello world\n",
        "1. hello world \n"
      ]
    },
    {
      "cell_type": "markdown",
      "metadata": {
        "id": "6SQqFLibbYG9"
      },
      "source": [
        "## 변수\n"
      ]
    },
    {
      "cell_type": "markdown",
      "metadata": {
        "id": "Gmh06XgxbEa8"
      },
      "source": [
        "* 대문자와 소문자는 다릅니다!\n",
        "* 변수명에 띄어쓰기를 쓰지 않습니다.!\n",
        "* 맨 앞에 숫자를 사용하지 않습니다.\n",
        "* 카멜 표기법이나 스네이크 표기법 중 일반 변수는 스네이크 표기법을 사용합니다.\n",
        "* for, if, print, sum 등 이미 예약되어 있는 것은 변수로 사용하지 않습니다. "
      ]
    },
    {
      "cell_type": "code",
      "metadata": {
        "colab": {
          "base_uri": "https://localhost:8080/"
        },
        "id": "r5tArQMSbLzj",
        "outputId": "95b54c72-70b4-4e28-90e3-7aaa7bae292c"
      },
      "source": [
        "x = 3\n",
        "y = 7\n",
        "x + y\n",
        "x - y\n",
        "x * y\n",
        "x // y"
      ],
      "execution_count": null,
      "outputs": [
        {
          "output_type": "execute_result",
          "data": {
            "text/plain": [
              "10"
            ]
          },
          "metadata": {
            "tags": []
          },
          "execution_count": 5
        }
      ]
    },
    {
      "cell_type": "code",
      "metadata": {
        "colab": {
          "base_uri": "https://localhost:8080/"
        },
        "id": "zXwkyeX5bnnu",
        "outputId": "6914d9fe-ca45-4c88-a05b-02ee4073a3ef"
      },
      "source": [
        "x = 3\n",
        "y = 7\n",
        "print(x + y)\n",
        "print(x - y)\n",
        "print(x * y)\n",
        "print(x // y)"
      ],
      "execution_count": null,
      "outputs": [
        {
          "output_type": "stream",
          "text": [
            "10\n",
            "-4\n",
            "21\n",
            "0\n"
          ],
          "name": "stdout"
        }
      ]
    },
    {
      "cell_type": "code",
      "metadata": {
        "colab": {
          "base_uri": "https://localhost:8080/"
        },
        "id": "3L_zLq51coZp",
        "outputId": "1ae2832c-b58c-4f7e-afec-be846f0aeab3"
      },
      "source": [
        "a = 10 \n",
        "b = '10'\n",
        "print(a + a)\n",
        "print(b + b)"
      ],
      "execution_count": null,
      "outputs": [
        {
          "output_type": "stream",
          "text": [
            "20\n",
            "1010\n"
          ],
          "name": "stdout"
        }
      ]
    },
    {
      "cell_type": "code",
      "metadata": {
        "colab": {
          "base_uri": "https://localhost:8080/"
        },
        "id": "Wp5qybf1c8FZ",
        "outputId": "53de44f3-7597-47ee-e6f5-d0d9f07c6e80"
      },
      "source": [
        "a = 10 # int : 정수\n",
        "b = '10' # str : 문자\n",
        "c = 'lee'\n",
        "d = 'hojun'\n",
        "e = True # bool : 불리언\n",
        "f = 10.1 # float : 실수\n",
        "print(type(a))"
      ],
      "execution_count": null,
      "outputs": [
        {
          "output_type": "stream",
          "text": [
            "<class 'int'>\n"
          ],
          "name": "stdout"
        }
      ]
    },
    {
      "cell_type": "code",
      "metadata": {
        "colab": {
          "base_uri": "https://localhost:8080/"
        },
        "id": "Ipkx5A8Xd2Er",
        "outputId": "9af0719b-dbfd-43a7-9a79-7ae1473b02bf"
      },
      "source": [
        "3 > 10"
      ],
      "execution_count": null,
      "outputs": [
        {
          "output_type": "execute_result",
          "data": {
            "text/plain": [
              "False"
            ]
          },
          "metadata": {
            "tags": []
          },
          "execution_count": 14
        }
      ]
    },
    {
      "cell_type": "code",
      "metadata": {
        "colab": {
          "base_uri": "https://localhost:8080/",
          "height": 172
        },
        "id": "BwVAjY51eLb1",
        "outputId": "481249c3-736b-4b53-bb58-b7dfdf176a1d"
      },
      "source": [
        "a + b"
      ],
      "execution_count": null,
      "outputs": [
        {
          "output_type": "error",
          "ename": "TypeError",
          "evalue": "ignored",
          "traceback": [
            "\u001b[0;31m---------------------------------------------------------------------------\u001b[0m",
            "\u001b[0;31mTypeError\u001b[0m                                 Traceback (most recent call last)",
            "\u001b[0;32m<ipython-input-15-bd58363a63fc>\u001b[0m in \u001b[0;36m<module>\u001b[0;34m()\u001b[0m\n\u001b[0;32m----> 1\u001b[0;31m \u001b[0ma\u001b[0m \u001b[0;34m+\u001b[0m \u001b[0mb\u001b[0m\u001b[0;34m\u001b[0m\u001b[0;34m\u001b[0m\u001b[0m\n\u001b[0m",
            "\u001b[0;31mTypeError\u001b[0m: unsupported operand type(s) for +: 'int' and 'str'"
          ]
        }
      ]
    },
    {
      "cell_type": "code",
      "metadata": {
        "colab": {
          "base_uri": "https://localhost:8080/"
        },
        "id": "jhf5pCjseaFH",
        "outputId": "3cc24f9a-8f7b-4264-a31d-04f36cca5231"
      },
      "source": [
        "a = [10, 20, 30, 10.1, 20.1, 30.1, 'hojun' ] # list\n",
        "b = (10, 20, 30 ) # tuple\n",
        "c = {10, 20, 30, 30, 30} # set\n",
        "d = {'one':1, 'two':2 } # dict\n",
        "print(type(a)) "
      ],
      "execution_count": null,
      "outputs": [
        {
          "output_type": "stream",
          "text": [
            "<class 'list'>\n"
          ],
          "name": "stdout"
        }
      ]
    },
    {
      "cell_type": "code",
      "metadata": {
        "colab": {
          "base_uri": "https://localhost:8080/",
          "height": 190
        },
        "id": "frKZVwLpffCY",
        "outputId": "949f3c9c-0498-453b-f38e-ed0ad98383aa"
      },
      "source": [
        "a.pop()\n",
        "sum(a)"
      ],
      "execution_count": null,
      "outputs": [
        {
          "output_type": "error",
          "ename": "IndexError",
          "evalue": "ignored",
          "traceback": [
            "\u001b[0;31m---------------------------------------------------------------------------\u001b[0m",
            "\u001b[0;31mIndexError\u001b[0m                                Traceback (most recent call last)",
            "\u001b[0;32m<ipython-input-24-3dec3277a6ac>\u001b[0m in \u001b[0;36m<module>\u001b[0;34m()\u001b[0m\n\u001b[0;32m----> 1\u001b[0;31m \u001b[0ma\u001b[0m\u001b[0;34m.\u001b[0m\u001b[0mpop\u001b[0m\u001b[0;34m(\u001b[0m\u001b[0;34m)\u001b[0m\u001b[0;34m\u001b[0m\u001b[0;34m\u001b[0m\u001b[0m\n\u001b[0m\u001b[1;32m      2\u001b[0m \u001b[0msum\u001b[0m\u001b[0;34m(\u001b[0m\u001b[0ma\u001b[0m\u001b[0;34m)\u001b[0m\u001b[0;34m\u001b[0m\u001b[0;34m\u001b[0m\u001b[0m\n",
            "\u001b[0;31mIndexError\u001b[0m: pop from empty list"
          ]
        }
      ]
    },
    {
      "cell_type": "markdown",
      "metadata": {
        "id": "mRvlNveIgVBy"
      },
      "source": [
        "## 형변환"
      ]
    },
    {
      "cell_type": "code",
      "metadata": {
        "colab": {
          "base_uri": "https://localhost:8080/"
        },
        "id": "0R71ZjTwgSZE",
        "outputId": "0c268ddd-1d83-4325-8e2a-4ff01cd0761a"
      },
      "source": [
        "a = 10\n",
        "b = '10'\n",
        "print(str(a) + b)\n",
        "print(a + int(b))"
      ],
      "execution_count": null,
      "outputs": [
        {
          "output_type": "stream",
          "text": [
            "1010\n",
            "20\n"
          ],
          "name": "stdout"
        }
      ]
    },
    {
      "cell_type": "markdown",
      "metadata": {
        "id": "eCCqe0rukvPL"
      },
      "source": [
        "## 산술연산\n"
      ]
    },
    {
      "cell_type": "code",
      "metadata": {
        "colab": {
          "base_uri": "https://localhost:8080/"
        },
        "id": "3kJzP6QikzWy",
        "outputId": "7422baf1-57e2-40d1-f5f1-8608be8f5530"
      },
      "source": [
        "a = 7\n",
        "b = 3\n",
        "print(a + b)\n",
        "print(a - b)\n",
        "print(a * b)\n",
        "print(a / b)\n",
        "print(a // b)\n",
        "print(a ** b)\n",
        "print(a % b)"
      ],
      "execution_count": null,
      "outputs": [
        {
          "output_type": "stream",
          "text": [
            "10\n",
            "4\n",
            "21\n",
            "2.3333333333333335\n",
            "2\n",
            "343\n",
            "1\n"
          ],
          "name": "stdout"
        }
      ]
    },
    {
      "cell_type": "markdown",
      "metadata": {
        "id": "rBMRcFRDl92l"
      },
      "source": [
        "## 비교연산\n"
      ]
    },
    {
      "cell_type": "code",
      "metadata": {
        "colab": {
          "base_uri": "https://localhost:8080/"
        },
        "id": "fW-vDPhUl6yV",
        "outputId": "ade32a4f-69a3-4ad6-ffd2-4a6b21c990b7"
      },
      "source": [
        "a = 3\n",
        "b = 5\n",
        "print(a > b)\n",
        "print(a >= b)\n",
        "print(a < b)\n",
        "print(a <= b)\n",
        "print(a == b)\n",
        "print(a != b)"
      ],
      "execution_count": null,
      "outputs": [
        {
          "output_type": "stream",
          "text": [
            "False\n",
            "False\n",
            "True\n",
            "True\n",
            "False\n",
            "True\n"
          ],
          "name": "stdout"
        }
      ]
    },
    {
      "cell_type": "markdown",
      "metadata": {
        "id": "BnrSXjBsosno"
      },
      "source": [
        "## 논리연산\n"
      ]
    },
    {
      "cell_type": "code",
      "metadata": {
        "colab": {
          "base_uri": "https://localhost:8080/"
        },
        "id": "Yv1qQs88pAlR",
        "outputId": "6d29028c-6543-4a70-805c-a53d42d931e8"
      },
      "source": [
        "#주석입니다. 주석은 실행하지 않습니다.\n",
        "a = 10\n",
        "b = 20\n",
        "a + b"
      ],
      "execution_count": null,
      "outputs": [
        {
          "output_type": "execute_result",
          "data": {
            "text/plain": [
              "30"
            ]
          },
          "metadata": {
            "tags": []
          },
          "execution_count": 32
        }
      ]
    },
    {
      "cell_type": "code",
      "metadata": {
        "colab": {
          "base_uri": "https://localhost:8080/"
        },
        "id": "hcuzhbNKm7lG",
        "outputId": "d38099af-3c82-4b37-c786-d50c6b95fd8f"
      },
      "source": [
        "a = True #1\n",
        "b = False #0\n",
        "\n",
        "print(a and b)\n",
        "print(a or b)\n",
        "print(not a)"
      ],
      "execution_count": null,
      "outputs": [
        {
          "output_type": "stream",
          "text": [
            "False\n",
            "True\n",
            "False\n"
          ],
          "name": "stdout"
        }
      ]
    },
    {
      "cell_type": "code",
      "metadata": {
        "colab": {
          "base_uri": "https://localhost:8080/"
        },
        "id": "kXreDRf9qmTT",
        "outputId": "e4ab4d4a-b4ce-4757-9d66-4f321feb6a8c"
      },
      "source": [
        "result = 0\n",
        "for i in range(1001):\n",
        "   if i % 3 == 0 or i % 5 == 0:\n",
        "      result = result + i\n",
        "\n",
        "print(result)"
      ],
      "execution_count": null,
      "outputs": [
        {
          "output_type": "stream",
          "text": [
            "234168\n"
          ],
          "name": "stdout"
        }
      ]
    },
    {
      "cell_type": "markdown",
      "metadata": {
        "id": "oeXiILgQw4Zg"
      },
      "source": [
        "##  문자열"
      ]
    },
    {
      "cell_type": "code",
      "metadata": {
        "id": "hlNCYRjEw-YI"
      },
      "source": [
        "s = 'paullab CEO leehojun'\n"
      ],
      "execution_count": null,
      "outputs": []
    },
    {
      "cell_type": "code",
      "metadata": {
        "colab": {
          "base_uri": "https://localhost:8080/"
        },
        "id": "GYsRF_vcxIi_",
        "outputId": "fffe4697-c2e5-4ba3-bb99-949d6e95df4c"
      },
      "source": [
        "s.count('l')"
      ],
      "execution_count": null,
      "outputs": [
        {
          "output_type": "execute_result",
          "data": {
            "text/plain": [
              "3"
            ]
          },
          "metadata": {
            "tags": []
          },
          "execution_count": 59
        }
      ]
    },
    {
      "cell_type": "code",
      "metadata": {
        "colab": {
          "base_uri": "https://localhost:8080/"
        },
        "id": "siMdmW_lxb7Y",
        "outputId": "1c8b5557-c8c9-40df-b7a8-35b378be9d16"
      },
      "source": [
        "s.count(' ')"
      ],
      "execution_count": null,
      "outputs": [
        {
          "output_type": "execute_result",
          "data": {
            "text/plain": [
              "2"
            ]
          },
          "metadata": {
            "tags": []
          },
          "execution_count": 61
        }
      ]
    },
    {
      "cell_type": "code",
      "metadata": {
        "colab": {
          "base_uri": "https://localhost:8080/",
          "height": 35
        },
        "id": "Xt5Hm4tWx2HB",
        "outputId": "0e892c0f-e908-4004-81c6-bf1cb3dd20d1"
      },
      "source": [
        "s.upper()"
      ],
      "execution_count": null,
      "outputs": [
        {
          "output_type": "execute_result",
          "data": {
            "application/vnd.google.colaboratory.intrinsic+json": {
              "type": "string"
            },
            "text/plain": [
              "'PAULLAB CEO LEEHOJUN'"
            ]
          },
          "metadata": {
            "tags": []
          },
          "execution_count": 62
        }
      ]
    },
    {
      "cell_type": "code",
      "metadata": {
        "colab": {
          "base_uri": "https://localhost:8080/",
          "height": 35
        },
        "id": "bGgA3s8Tx7SQ",
        "outputId": "a5f18022-ea0d-44ba-ca54-014d2a34b02a"
      },
      "source": [
        "s.lower()"
      ],
      "execution_count": null,
      "outputs": [
        {
          "output_type": "execute_result",
          "data": {
            "application/vnd.google.colaboratory.intrinsic+json": {
              "type": "string"
            },
            "text/plain": [
              "'paullab ceo leehojun'"
            ]
          },
          "metadata": {
            "tags": []
          },
          "execution_count": 66
        }
      ]
    },
    {
      "cell_type": "code",
      "metadata": {
        "colab": {
          "base_uri": "https://localhost:8080/"
        },
        "id": "fVLzakWwx-WJ",
        "outputId": "4b01d57c-43ea-4550-b46a-654fc7ab6d9d"
      },
      "source": [
        "s.split(' ')"
      ],
      "execution_count": null,
      "outputs": [
        {
          "output_type": "execute_result",
          "data": {
            "text/plain": [
              "['paullab', 'CEO', 'leehojun']"
            ]
          },
          "metadata": {
            "tags": []
          },
          "execution_count": 68
        }
      ]
    },
    {
      "cell_type": "code",
      "metadata": {
        "colab": {
          "base_uri": "https://localhost:8080/",
          "height": 35
        },
        "id": "uUNhhVs3yPBx",
        "outputId": "572cdc04-e487-486c-94db-699aaa0ad343"
      },
      "source": [
        "'-'.join(['a', 'b', 'c'])"
      ],
      "execution_count": null,
      "outputs": [
        {
          "output_type": "execute_result",
          "data": {
            "application/vnd.google.colaboratory.intrinsic+json": {
              "type": "string"
            },
            "text/plain": [
              "'a-b-c'"
            ]
          },
          "metadata": {
            "tags": []
          },
          "execution_count": 70
        }
      ]
    },
    {
      "cell_type": "code",
      "metadata": {
        "colab": {
          "base_uri": "https://localhost:8080/",
          "height": 35
        },
        "id": "Ch0ngtaOycVT",
        "outputId": "badccd11-5e31-4cc4-aca1-f4e98804250e"
      },
      "source": [
        "d =  s.split(' ')\n",
        "'-'.join(d)"
      ],
      "execution_count": null,
      "outputs": [
        {
          "output_type": "execute_result",
          "data": {
            "application/vnd.google.colaboratory.intrinsic+json": {
              "type": "string"
            },
            "text/plain": [
              "'paullab-CEO-leehojun'"
            ]
          },
          "metadata": {
            "tags": []
          },
          "execution_count": 72
        }
      ]
    },
    {
      "cell_type": "code",
      "metadata": {
        "colab": {
          "base_uri": "https://localhost:8080/"
        },
        "id": "qhDZLCsFztXy",
        "outputId": "4c68dc30-d0d6-4cc2-b2f1-2811c72aee7e"
      },
      "source": [
        "dir(s)"
      ],
      "execution_count": null,
      "outputs": [
        {
          "output_type": "execute_result",
          "data": {
            "text/plain": [
              "['__add__',\n",
              " '__class__',\n",
              " '__contains__',\n",
              " '__delattr__',\n",
              " '__dir__',\n",
              " '__doc__',\n",
              " '__eq__',\n",
              " '__format__',\n",
              " '__ge__',\n",
              " '__getattribute__',\n",
              " '__getitem__',\n",
              " '__getnewargs__',\n",
              " '__gt__',\n",
              " '__hash__',\n",
              " '__init__',\n",
              " '__init_subclass__',\n",
              " '__iter__',\n",
              " '__le__',\n",
              " '__len__',\n",
              " '__lt__',\n",
              " '__mod__',\n",
              " '__mul__',\n",
              " '__ne__',\n",
              " '__new__',\n",
              " '__reduce__',\n",
              " '__reduce_ex__',\n",
              " '__repr__',\n",
              " '__rmod__',\n",
              " '__rmul__',\n",
              " '__setattr__',\n",
              " '__sizeof__',\n",
              " '__str__',\n",
              " '__subclasshook__',\n",
              " 'capitalize',\n",
              " 'casefold',\n",
              " 'center',\n",
              " 'count',\n",
              " 'encode',\n",
              " 'endswith',\n",
              " 'expandtabs',\n",
              " 'find',\n",
              " 'format',\n",
              " 'format_map',\n",
              " 'index',\n",
              " 'isalnum',\n",
              " 'isalpha',\n",
              " 'isascii',\n",
              " 'isdecimal',\n",
              " 'isdigit',\n",
              " 'isidentifier',\n",
              " 'islower',\n",
              " 'isnumeric',\n",
              " 'isprintable',\n",
              " 'isspace',\n",
              " 'istitle',\n",
              " 'isupper',\n",
              " 'join',\n",
              " 'ljust',\n",
              " 'lower',\n",
              " 'lstrip',\n",
              " 'maketrans',\n",
              " 'partition',\n",
              " 'replace',\n",
              " 'rfind',\n",
              " 'rindex',\n",
              " 'rjust',\n",
              " 'rpartition',\n",
              " 'rsplit',\n",
              " 'rstrip',\n",
              " 'split',\n",
              " 'splitlines',\n",
              " 'startswith',\n",
              " 'strip',\n",
              " 'swapcase',\n",
              " 'title',\n",
              " 'translate',\n",
              " 'upper',\n",
              " 'zfill']"
            ]
          },
          "metadata": {
            "tags": []
          },
          "execution_count": 73
        }
      ]
    },
    {
      "cell_type": "code",
      "metadata": {
        "colab": {
          "base_uri": "https://localhost:8080/"
        },
        "id": "O5FoXF9sz_Kq",
        "outputId": "d9d7df44-5f3c-49de-98d9-35b104ea1a79"
      },
      "source": [
        "s ='                   hello world'\n",
        "print(s)\n",
        "print(s.strip())\n",
        "print(s.replace(' ', ''))"
      ],
      "execution_count": null,
      "outputs": [
        {
          "output_type": "stream",
          "text": [
            "                   hello world\n",
            "hello world\n",
            "helloworld\n"
          ],
          "name": "stdout"
        }
      ]
    },
    {
      "cell_type": "markdown",
      "metadata": {
        "id": "ECJDI8KncFET"
      },
      "source": [
        "## 리스트 \n",
        "\n",
        "* 순서가 있고, 수정이 가능합니다.\n",
        " "
      ]
    },
    {
      "cell_type": "code",
      "metadata": {
        "colab": {
          "base_uri": "https://localhost:8080/"
        },
        "id": "j4LaRYPDc4lD",
        "outputId": "04eb1d4a-c29e-4fa4-cf44-c88069b44957"
      },
      "source": [
        "a = [10, 20, 30, 40, 50, 60]\n",
        "a\n",
        "a[0] # 0은 인덱스이고, a[0] 호출하는 것을 indexing이라고 합니다. \n",
        "a[0], a[1], a[2], a[3], a[4]\n",
        "a[0:5] # 슬라이싱, 자료형[start:stop:step]\n",
        "a[::2] # 슬라이싱, 자료형[start:stop:step] ,안써요..\n",
        "a[::-1] # 슬라이싱, 자료형[start:stop:step]\n",
        "a[0] = 1000\n",
        "a"
      ],
      "execution_count": null,
      "outputs": [
        {
          "output_type": "execute_result",
          "data": {
            "text/plain": [
              "[1000, 20, 30, 40, 50, 60]"
            ]
          },
          "metadata": {
            "tags": []
          },
          "execution_count": 28
        }
      ]
    },
    {
      "cell_type": "code",
      "metadata": {
        "id": "_2T3XpS7ecXK"
      },
      "source": [
        "dir(a)\n",
        "\n",
        "a.append() # 값을 맨 뒤에 추가합니다. 잘써요!\n",
        "a.clear() # a에 모든 값을 비웁니다. 안써요..\n",
        "a.copy() # a에 모든 값을 복사합니다.\n",
        "a.count() # a에서 특정한 값의 개수를 찾습니다. 잘써요!\n",
        "a.extend([10, 20, 30]) # a에 맨 뒤에 여러개의 값을 추가합니다.\n",
        "a.index() # a에서 특정한 값의 인덱스를 찾습니다.\n",
        "a.insert(2,10000) # a에 중간에 값을 삽입합니다\n",
        "a.pop() # a 에 맨 뒤에 값을 빼냅니다. 빼낸값은 삭제됩니다. 잘써요\n",
        "a.remove(10000) # a에 중간에 값을 삭제합니다.\n",
        "a.reverse() # a에 값을 뒤집습니다. 잘써요 \n",
        "a.sort() # a의 값을 정렬합니다.잘써요"
      ],
      "execution_count": null,
      "outputs": []
    },
    {
      "cell_type": "code",
      "metadata": {
        "colab": {
          "base_uri": "https://localhost:8080/"
        },
        "id": "tvDuxYh0gZ_h",
        "outputId": "4f80ce8a-ba3f-43f4-a87d-7b90ebd150f9"
      },
      "source": [
        "a.append(100)\n",
        "a.append(100)\n",
        "a"
      ],
      "execution_count": null,
      "outputs": [
        {
          "output_type": "execute_result",
          "data": {
            "text/plain": [
              "[1000, 20, 30, 40, 50, 60, 100, 100]"
            ]
          },
          "metadata": {
            "tags": []
          },
          "execution_count": 29
        }
      ]
    },
    {
      "cell_type": "code",
      "metadata": {
        "colab": {
          "base_uri": "https://localhost:8080/"
        },
        "id": "aPm728Cigwoh",
        "outputId": "1e2dde0f-f9df-4cbd-c3fe-54b4734d3a83"
      },
      "source": [
        "a.count(100)"
      ],
      "execution_count": null,
      "outputs": [
        {
          "output_type": "execute_result",
          "data": {
            "text/plain": [
              "2"
            ]
          },
          "metadata": {
            "tags": []
          },
          "execution_count": 30
        }
      ]
    },
    {
      "cell_type": "code",
      "metadata": {
        "colab": {
          "base_uri": "https://localhost:8080/"
        },
        "id": "MZJCHJvdg7Xl",
        "outputId": "c400f6ab-a6d7-4c7f-ed9e-e4050bca4e2e"
      },
      "source": [
        "a.sort()\n",
        "a"
      ],
      "execution_count": null,
      "outputs": [
        {
          "output_type": "execute_result",
          "data": {
            "text/plain": [
              "[20, 30, 40, 50, 60, 100, 100, 1000]"
            ]
          },
          "metadata": {
            "tags": []
          },
          "execution_count": 31
        }
      ]
    },
    {
      "cell_type": "code",
      "metadata": {
        "colab": {
          "base_uri": "https://localhost:8080/"
        },
        "id": "DhpXhwfzg_Ao",
        "outputId": "a40087a1-c68f-4ca5-f911-016dac27b0bf"
      },
      "source": [
        "a.reverse()\n",
        "a"
      ],
      "execution_count": null,
      "outputs": [
        {
          "output_type": "execute_result",
          "data": {
            "text/plain": [
              "[1000, 100, 100, 60, 50, 40, 30, 20]"
            ]
          },
          "metadata": {
            "tags": []
          },
          "execution_count": 32
        }
      ]
    },
    {
      "cell_type": "markdown",
      "metadata": {
        "id": "_IdcLs7zirrw"
      },
      "source": [
        "튜플, 딕셔너리, 셋\n"
      ]
    },
    {
      "cell_type": "code",
      "metadata": {
        "colab": {
          "base_uri": "https://localhost:8080/"
        },
        "id": "gj0ogD-yiuoI",
        "outputId": "cf8c925f-d681-45ab-8ae4-e3cc9cd702c0"
      },
      "source": [
        "## 튜플은 순서가 있고 값을 변경할 수 없습니다.\n",
        "\n",
        "t = (10, 20, 30)\n",
        "t"
      ],
      "execution_count": null,
      "outputs": [
        {
          "output_type": "execute_result",
          "data": {
            "text/plain": [
              "(10, 20, 30)"
            ]
          },
          "metadata": {
            "tags": []
          },
          "execution_count": 33
        }
      ]
    },
    {
      "cell_type": "code",
      "metadata": {
        "colab": {
          "base_uri": "https://localhost:8080/"
        },
        "id": "wK6-wWJ-i8kw",
        "outputId": "61c9fbd3-0671-43c3-d54e-a9f480612129"
      },
      "source": [
        "dir(t)"
      ],
      "execution_count": null,
      "outputs": [
        {
          "output_type": "execute_result",
          "data": {
            "text/plain": [
              "['__add__',\n",
              " '__class__',\n",
              " '__contains__',\n",
              " '__delattr__',\n",
              " '__dir__',\n",
              " '__doc__',\n",
              " '__eq__',\n",
              " '__format__',\n",
              " '__ge__',\n",
              " '__getattribute__',\n",
              " '__getitem__',\n",
              " '__getnewargs__',\n",
              " '__gt__',\n",
              " '__hash__',\n",
              " '__init__',\n",
              " '__init_subclass__',\n",
              " '__iter__',\n",
              " '__le__',\n",
              " '__len__',\n",
              " '__lt__',\n",
              " '__mul__',\n",
              " '__ne__',\n",
              " '__new__',\n",
              " '__reduce__',\n",
              " '__reduce_ex__',\n",
              " '__repr__',\n",
              " '__rmul__',\n",
              " '__setattr__',\n",
              " '__sizeof__',\n",
              " '__str__',\n",
              " '__subclasshook__',\n",
              " 'count',\n",
              " 'index']"
            ]
          },
          "metadata": {
            "tags": []
          },
          "execution_count": 34
        }
      ]
    },
    {
      "cell_type": "code",
      "metadata": {
        "colab": {
          "base_uri": "https://localhost:8080/",
          "height": 35
        },
        "id": "K-MJK19ajaTw",
        "outputId": "596f6b2d-ef09-471d-aa32-b290ffdf2349"
      },
      "source": [
        "# 딕셔너리(key : value) 형태로 매칭\n",
        "\n",
        "영한번역 = {'one': '하나', 'two' :'둘'}\n",
        "영한번역['one']"
      ],
      "execution_count": null,
      "outputs": [
        {
          "output_type": "execute_result",
          "data": {
            "application/vnd.google.colaboratory.intrinsic+json": {
              "type": "string"
            },
            "text/plain": [
              "'하나'"
            ]
          },
          "metadata": {
            "tags": []
          },
          "execution_count": 38
        }
      ]
    },
    {
      "cell_type": "code",
      "metadata": {
        "colab": {
          "base_uri": "https://localhost:8080/"
        },
        "id": "1uMsLLWEnxZK",
        "outputId": "d1266ab9-8274-490a-febd-e40ef44c7722"
      },
      "source": [
        "# 셋 (집합, 합집합, 차집합, 교집합)\n",
        "\n",
        "s = {10,20,30,30,30}\n",
        "s"
      ],
      "execution_count": null,
      "outputs": [
        {
          "output_type": "execute_result",
          "data": {
            "text/plain": [
              "{10, 20, 30}"
            ]
          },
          "metadata": {
            "tags": []
          },
          "execution_count": 39
        }
      ]
    },
    {
      "cell_type": "code",
      "metadata": {
        "colab": {
          "base_uri": "https://localhost:8080/",
          "height": 204
        },
        "id": "6zdW13RuoKho",
        "outputId": "092437a7-e3bd-4128-c971-3c0bae535eb3"
      },
      "source": [
        "s = {10,20,30,30,30}\n",
        "ss = {10,40,50}\n",
        "s | ss # 합집합\n",
        "s & ss # 교집합\n",
        "- ss # 차집합"
      ],
      "execution_count": null,
      "outputs": [
        {
          "output_type": "error",
          "ename": "TypeError",
          "evalue": "ignored",
          "traceback": [
            "\u001b[0;31m---------------------------------------------------------------------------\u001b[0m",
            "\u001b[0;31mTypeError\u001b[0m                                 Traceback (most recent call last)",
            "\u001b[0;32m<ipython-input-40-0cee99d696f8>\u001b[0m in \u001b[0;36m<module>\u001b[0;34m()\u001b[0m\n\u001b[1;32m      3\u001b[0m \u001b[0ms\u001b[0m \u001b[0;34m|\u001b[0m \u001b[0mss\u001b[0m \u001b[0;31m# 합집합\u001b[0m\u001b[0;34m\u001b[0m\u001b[0;34m\u001b[0m\u001b[0m\n\u001b[1;32m      4\u001b[0m \u001b[0ms\u001b[0m \u001b[0;34m&\u001b[0m \u001b[0mss\u001b[0m \u001b[0;31m# 교집합\u001b[0m\u001b[0;34m\u001b[0m\u001b[0;34m\u001b[0m\u001b[0m\n\u001b[0;32m----> 5\u001b[0;31m \u001b[0;34m-\u001b[0m \u001b[0mss\u001b[0m \u001b[0;31m# 차집합\u001b[0m\u001b[0;34m\u001b[0m\u001b[0;34m\u001b[0m\u001b[0m\n\u001b[0m",
            "\u001b[0;31mTypeError\u001b[0m: bad operand type for unary -: 'set'"
          ]
        }
      ]
    },
    {
      "cell_type": "markdown",
      "metadata": {
        "id": "K1mZ1NDqoxqg"
      },
      "source": [
        "f-string\n"
      ]
    },
    {
      "cell_type": "code",
      "metadata": {
        "colab": {
          "base_uri": "https://localhost:8080/"
        },
        "id": "UMVMZ5iLo0Wo",
        "outputId": "91be504f-20e1-439d-cba9-e5599c87ac66"
      },
      "source": [
        "age = 10\n",
        "name = 'leehojun'\n",
        "print('제 이름은 leehojun입니다. 제나이는 10살입니다')\n",
        "print('제 이름은' ,name,'입니다, 제나이는',age,'살입니다')\n",
        "print('제 이름은 {0}입니다. 제나이는 {1}살입니다'.format(name, age))\n",
        "print(f'제 이름은 {name}입니다. 제 나이는 {age+age}살입니다') #이것만 씁시다!"
      ],
      "execution_count": null,
      "outputs": [
        {
          "output_type": "stream",
          "text": [
            "제 이름은 leehojun입니다. 제나이는 10살입니다\n",
            "제 이름은 leehojun 입니다, 제나이는 10 살입니다\n",
            "제 이름은 10입니다. 제나이는 10살입니다\n",
            "제 이름은 leehojun입니다. 제 나이는 20살입니다\n"
          ],
          "name": "stdout"
        }
      ]
    },
    {
      "cell_type": "code",
      "metadata": {
        "colab": {
          "base_uri": "https://localhost:8080/",
          "height": 35
        },
        "id": "JleNCOXbqPv_",
        "outputId": "9bb8e805-9af3-4999-c5ac-efaa1b6f1e52"
      },
      "source": [
        "'abc'.upper()\n",
        "'{}bc'.format('a')"
      ],
      "execution_count": null,
      "outputs": [
        {
          "output_type": "execute_result",
          "data": {
            "application/vnd.google.colaboratory.intrinsic+json": {
              "type": "string"
            },
            "text/plain": [
              "'abc'"
            ]
          },
          "metadata": {
            "tags": []
          },
          "execution_count": 54
        }
      ]
    },
    {
      "cell_type": "markdown",
      "metadata": {
        "id": "W_pWdPs0rupC"
      },
      "source": [
        "## built in function\n",
        "\n",
        "* abs() : 절대값\n",
        "* min() : 최솟값\n",
        "* max() : 최댓값\n",
        "* dir() : 매서드 확인\n",
        "* id() : 메모리 주소 확인\n",
        "* sorted() : 정렬\n",
        "* reversed() : 역순 (역정렬 아님)\n",
        "*enumerate() : 순서를 매김 (for 하면서 설명)\n",
        "\n",
        "* 형변환\n",
        " * set() : 집합으로 형변환\n",
        " *dict(0 : 딕셔너리로 형변환\n",
        " *bool() : 불리언으로 형변환\n",
        " *int() : 정수형으로 형변환\n",
        " *str() : 문자열로 형변환\n",
        " * list() : 리스트로 형변환\n",
        "\n",
        "* ord() : 문자를 숫자로 변환\n",
        "*  chr() : 숫자를 문자로 변환\n",
        "* sum () : 전부 더함 (더할수 없으면 애러)\n",
        "* filter() : 필터링 (수학점수 90점 이상인 사람?) \n",
        "* print() : 출력\n",
        "* format() : 콤마찍기\n",
        "* len() : 길이 출력 ! 중요!\n",
        "* type() : 타입 알아보기 중요!!\n",
        "* range() : 연속된 값 생성 (0~99 -> range(100))\n",
        "* zip('abc', 'def') \n",
        "* map (lambda x:x**2,[1,2,3])\n",
        "*round() : 소수점 자리 반올림"
      ]
    },
    {
      "cell_type": "code",
      "metadata": {
        "colab": {
          "base_uri": "https://localhost:8080/"
        },
        "id": "lsoyS0Jdr7Yv",
        "outputId": "f11ed21a-c5f4-4c27-8e5c-7baede040a5d"
      },
      "source": [
        "list(zip('abc', 'def'))"
      ],
      "execution_count": null,
      "outputs": [
        {
          "output_type": "execute_result",
          "data": {
            "text/plain": [
              "[('a', 'd'), ('b', 'e'), ('c', 'f')]"
            ]
          },
          "metadata": {
            "tags": []
          },
          "execution_count": 61
        }
      ]
    },
    {
      "cell_type": "code",
      "metadata": {
        "colab": {
          "base_uri": "https://localhost:8080/"
        },
        "id": "3OaclrOExLQd",
        "outputId": "707c6f74-134a-4d9a-d4cb-99a9db15e384"
      },
      "source": [
        "list(map (lambda x:x**2,[1,2,3]))"
      ],
      "execution_count": null,
      "outputs": [
        {
          "output_type": "execute_result",
          "data": {
            "text/plain": [
              "[1, 4, 9]"
            ]
          },
          "metadata": {
            "tags": []
          },
          "execution_count": 63
        }
      ]
    },
    {
      "cell_type": "markdown",
      "metadata": {
        "id": "18BRTSq50Mhb"
      },
      "source": [
        "## 조건문"
      ]
    },
    {
      "cell_type": "code",
      "metadata": {
        "colab": {
          "base_uri": "https://localhost:8080/"
        },
        "id": "ZyZ-l7av1GZk",
        "outputId": "1dac5e9a-e917-4af0-cf55-ead73bcb7dbb"
      },
      "source": [
        "if False:\n",
        "  print('hello')\n",
        "print('end')"
      ],
      "execution_count": null,
      "outputs": [
        {
          "output_type": "stream",
          "text": [
            "end\n"
          ],
          "name": "stdout"
        }
      ]
    },
    {
      "cell_type": "code",
      "metadata": {
        "colab": {
          "base_uri": "https://localhost:8080/"
        },
        "id": "TLWqP2mXzre8",
        "outputId": "22786541-7633-4b00-97d5-dc83178077bc"
      },
      "source": [
        "score = 89\n",
        "money = 0\n",
        "\n",
        "if score > 90:\n",
        "  print('mom : i\\'m so happy')\n",
        "  money += 1000000 # money = money = money + 1000000, 할당연산이라 부릅니다.\n",
        "elif score > 80:\n",
        "  print('mom : im  happy')\n",
        "  money += 1000000\n",
        "elif score > 70:\n",
        "  print('mom : happy?')\n",
        "  money += 1000000\n",
        "else:\n",
        "   print('mom : ...')\n",
        "  \n",
        "print(money)  "
      ],
      "execution_count": null,
      "outputs": [
        {
          "output_type": "stream",
          "text": [
            "mom : im  happy\n",
            "1000000\n"
          ],
          "name": "stdout"
        }
      ]
    },
    {
      "cell_type": "markdown",
      "metadata": {
        "id": "L8HguL_g23nL"
      },
      "source": [
        "## 문제풀이와 업다운 게임 제작"
      ]
    },
    {
      "cell_type": "code",
      "metadata": {
        "colab": {
          "base_uri": "https://localhost:8080/"
        },
        "id": "nVBIqqBD26cL",
        "outputId": "5ce5ca7c-49c5-46d7-9476-79dd08408918"
      },
      "source": [
        "str(list(range(100)))\n",
        "str(list(range(100))).count('8')\n",
        "str(list(range(10000))).count('8')"
      ],
      "execution_count": null,
      "outputs": [
        {
          "output_type": "execute_result",
          "data": {
            "text/plain": [
              "4000"
            ]
          },
          "metadata": {
            "tags": []
          },
          "execution_count": 77
        }
      ]
    },
    {
      "cell_type": "code",
      "metadata": {
        "id": "6Vt1EvpQ4q_q"
      },
      "source": [
        "리스트 = [1,3,4,8,13,17,20]\n",
        "리스트둘 = 리스트[1:]"
      ],
      "execution_count": null,
      "outputs": []
    },
    {
      "cell_type": "code",
      "metadata": {
        "colab": {
          "base_uri": "https://localhost:8080/"
        },
        "id": "1Sp8m59h5Lmq",
        "outputId": "06f62e17-39d5-487f-8033-5e003b419769"
      },
      "source": [
        "list(zip(리스트, 리스트둘))"
      ],
      "execution_count": null,
      "outputs": [
        {
          "output_type": "execute_result",
          "data": {
            "text/plain": [
              "[(1, 3), (3, 4), (4, 8), (8, 13), (13, 17), (17, 20)]"
            ]
          },
          "metadata": {
            "tags": []
          },
          "execution_count": 84
        }
      ]
    },
    {
      "cell_type": "code",
      "metadata": {
        "colab": {
          "base_uri": "https://localhost:8080/"
        },
        "id": "mIQkBBP05aN7",
        "outputId": "57b05a6d-2eeb-4d74-e98e-30bd55012d9e"
      },
      "source": [
        "묶어준리스트 = list(zip(리스트, 리스트둘))\n",
        "묶어준리스트.sort(key=lambda x:x[0]-x[1], reverse=True)\n",
        "묶어준리스트\n",
        "묶어준리스트[0]"
      ],
      "execution_count": null,
      "outputs": [
        {
          "output_type": "execute_result",
          "data": {
            "text/plain": [
              "(3, 4)"
            ]
          },
          "metadata": {
            "tags": []
          },
          "execution_count": 96
        }
      ]
    },
    {
      "cell_type": "code",
      "metadata": {
        "id": "YkXMpXWn7EFx"
      },
      "source": [
        "import random\n",
        "\n",
        "정답 = random.randint(1,100)\n",
        "\n",
        "while True:\n",
        "  user = int(input('숫자를 입력해주세요.'))\n",
        "  if user , 정답:\n",
        "    print('up')\n",
        "  elif user > 정답:\n",
        "    print('down')\n",
        "  else:\n",
        "    print('정답')\n",
        "    break"
      ],
      "execution_count": null,
      "outputs": []
    },
    {
      "cell_type": "markdown",
      "metadata": {
        "id": "ZneI3vDr-Wn6"
      },
      "source": [
        "## 반복문"
      ]
    },
    {
      "cell_type": "code",
      "metadata": {
        "colab": {
          "base_uri": "https://localhost:8080/"
        },
        "id": "k-Zi32F4-WNJ",
        "outputId": "98807cef-b85f-4651-db0b-fbde951f20f0"
      },
      "source": [
        "for i in range (10):\n",
        "  print(i)"
      ],
      "execution_count": null,
      "outputs": [
        {
          "output_type": "stream",
          "text": [
            "0\n",
            "1\n",
            "2\n",
            "3\n",
            "4\n",
            "5\n",
            "6\n",
            "7\n",
            "8\n",
            "9\n"
          ],
          "name": "stdout"
        }
      ]
    },
    {
      "cell_type": "code",
      "metadata": {
        "colab": {
          "base_uri": "https://localhost:8080/"
        },
        "id": "mSgyrMTJBt2h",
        "outputId": "8489234c-d19c-4963-ed8e-b93fd287c46b"
      },
      "source": [
        "list(range(10)) # stop\n",
        "list(range(0,10,2)) # start, sotp, step\n",
        "list(range(5,10)) # start, stop\n",
        "list(range(10,5,-1)) # start, sotp, step"
      ],
      "execution_count": null,
      "outputs": [
        {
          "output_type": "execute_result",
          "data": {
            "text/plain": [
              "[10, 9, 8, 7, 6]"
            ]
          },
          "metadata": {
            "tags": []
          },
          "execution_count": 102
        }
      ]
    },
    {
      "cell_type": "code",
      "metadata": {
        "colab": {
          "base_uri": "https://localhost:8080/"
        },
        "id": "B5MKv9p8CNm3",
        "outputId": "4e32d27f-9ee3-4e6c-c103-0d26dc723105"
      },
      "source": [
        "s = 0\n",
        "for i in range (101):\n",
        "  s = s + i # s += 1\n",
        "\n",
        "print(s)"
      ],
      "execution_count": null,
      "outputs": [
        {
          "output_type": "stream",
          "text": [
            "5050\n"
          ],
          "name": "stdout"
        }
      ]
    },
    {
      "cell_type": "code",
      "metadata": {
        "colab": {
          "base_uri": "https://localhost:8080/"
        },
        "id": "A02Snfc-C-aX",
        "outputId": "28c92c9d-6236-46fa-9df1-c02b71cf6fd6"
      },
      "source": [
        "s = 0\n",
        "for i in range (0,101,2):\n",
        "  s = s + i # s += 1\n",
        "\n",
        "print(s)"
      ],
      "execution_count": null,
      "outputs": [
        {
          "output_type": "stream",
          "text": [
            "2550\n"
          ],
          "name": "stdout"
        }
      ]
    },
    {
      "cell_type": "code",
      "metadata": {
        "colab": {
          "base_uri": "https://localhost:8080/"
        },
        "id": "Z4VF3TxuDlg9",
        "outputId": "b48e0ee6-3803-41d0-aa15-0f9b94c07caa"
      },
      "source": [
        "sum(range(0,101,2))"
      ],
      "execution_count": null,
      "outputs": [
        {
          "output_type": "execute_result",
          "data": {
            "text/plain": [
              "2550"
            ]
          },
          "metadata": {
            "tags": []
          },
          "execution_count": 110
        }
      ]
    },
    {
      "cell_type": "code",
      "metadata": {
        "colab": {
          "base_uri": "https://localhost:8080/"
        },
        "id": "Dg_A1RDCDy-9",
        "outputId": "35618443-faf3-4299-dc87-e655f46a96b9"
      },
      "source": [
        "s = 0\n",
        "for i in range(101):\n",
        "  if i % 2 == 0:\n",
        "    s = s + i # s += 1\n",
        "\n",
        "print(s)"
      ],
      "execution_count": null,
      "outputs": [
        {
          "output_type": "stream",
          "text": [
            "2550\n"
          ],
          "name": "stdout"
        }
      ]
    },
    {
      "cell_type": "code",
      "metadata": {
        "colab": {
          "base_uri": "https://localhost:8080/"
        },
        "id": "Y2geyefiETuO",
        "outputId": "975a3870-32e7-4470-d704-fe847895b870"
      },
      "source": [
        "for i in range(1,10):\n",
        "  print(f'{2} X {i} = {2 * i}')"
      ],
      "execution_count": null,
      "outputs": [
        {
          "output_type": "stream",
          "text": [
            "2 X 1 = 2\n",
            "2 X 2 = 4\n",
            "2 X 3 = 6\n",
            "2 X 4 = 8\n",
            "2 X 5 = 10\n",
            "2 X 6 = 12\n",
            "2 X 7 = 14\n",
            "2 X 8 = 16\n",
            "2 X 9 = 18\n"
          ],
          "name": "stdout"
        }
      ]
    },
    {
      "cell_type": "code",
      "metadata": {
        "colab": {
          "base_uri": "https://localhost:8080/"
        },
        "id": "0I5BYgPHE6Qd",
        "outputId": "04ccaf30-409c-4ab7-f284-37e3173eece3"
      },
      "source": [
        "for i in range(1,10):\n",
        "  print(f'{3} X {i} = {3 * i}')"
      ],
      "execution_count": null,
      "outputs": [
        {
          "output_type": "stream",
          "text": [
            "3 X 1 = 3\n",
            "3 X 2 = 6\n",
            "3 X 3 = 9\n",
            "3 X 4 = 12\n",
            "3 X 5 = 15\n",
            "3 X 6 = 18\n",
            "3 X 7 = 21\n",
            "3 X 8 = 24\n",
            "3 X 9 = 27\n"
          ],
          "name": "stdout"
        }
      ]
    },
    {
      "cell_type": "code",
      "metadata": {
        "colab": {
          "base_uri": "https://localhost:8080/"
        },
        "id": "VjFhdp6fE-rI",
        "outputId": "5b247ec5-3c60-460c-e5f6-8046a8abf44a"
      },
      "source": [
        "for i in range(1,10):\n",
        "  print(f'{4} X {i} = {3 * i}')"
      ],
      "execution_count": null,
      "outputs": [
        {
          "output_type": "stream",
          "text": [
            "4 X 1 = 3\n",
            "4 X 2 = 6\n",
            "4 X 3 = 9\n",
            "4 X 4 = 12\n",
            "4 X 5 = 15\n",
            "4 X 6 = 18\n",
            "4 X 7 = 21\n",
            "4 X 8 = 24\n",
            "4 X 9 = 27\n"
          ],
          "name": "stdout"
        }
      ]
    },
    {
      "cell_type": "code",
      "metadata": {
        "colab": {
          "base_uri": "https://localhost:8080/"
        },
        "id": "_I-J_19_FCBV",
        "outputId": "9b6054a5-b6a2-4dfa-f037-f2b7246dd614"
      },
      "source": [
        "for i in range(1,10):\n",
        "  print(f'{5} X {i} = {5 * i}')"
      ],
      "execution_count": null,
      "outputs": [
        {
          "output_type": "stream",
          "text": [
            "5 X 1 = 5\n",
            "5 X 2 = 10\n",
            "5 X 3 = 15\n",
            "5 X 4 = 20\n",
            "5 X 5 = 25\n",
            "5 X 6 = 30\n",
            "5 X 7 = 35\n",
            "5 X 8 = 40\n",
            "5 X 9 = 45\n"
          ],
          "name": "stdout"
        }
      ]
    },
    {
      "cell_type": "code",
      "metadata": {
        "colab": {
          "base_uri": "https://localhost:8080/"
        },
        "id": "zEt20S1EFE8l",
        "outputId": "c7f0ef06-ab98-4c16-e4a7-b4adb412cdcc"
      },
      "source": [
        "for i in range(1,10):\n",
        "  print(f'{6} X {i} = {6 * i}')"
      ],
      "execution_count": null,
      "outputs": [
        {
          "output_type": "stream",
          "text": [
            "6 X 1 = 6\n",
            "6 X 2 = 12\n",
            "6 X 3 = 18\n",
            "6 X 4 = 24\n",
            "6 X 5 = 30\n",
            "6 X 6 = 36\n",
            "6 X 7 = 42\n",
            "6 X 8 = 48\n",
            "6 X 9 = 54\n"
          ],
          "name": "stdout"
        }
      ]
    },
    {
      "cell_type": "code",
      "metadata": {
        "colab": {
          "base_uri": "https://localhost:8080/"
        },
        "id": "LHqsKgu8FJtt",
        "outputId": "90b80342-d388-4653-ce13-397d9ca7c9ed"
      },
      "source": [
        "for i in range(1,10):\n",
        "  print(f'{7} X {i} = {7 * i}')"
      ],
      "execution_count": null,
      "outputs": [
        {
          "output_type": "stream",
          "text": [
            "7 X 1 = 7\n",
            "7 X 2 = 14\n",
            "7 X 3 = 21\n",
            "7 X 4 = 28\n",
            "7 X 5 = 35\n",
            "7 X 6 = 42\n",
            "7 X 7 = 49\n",
            "7 X 8 = 56\n",
            "7 X 9 = 63\n"
          ],
          "name": "stdout"
        }
      ]
    },
    {
      "cell_type": "code",
      "metadata": {
        "colab": {
          "base_uri": "https://localhost:8080/"
        },
        "id": "fqvn6iZIFQkB",
        "outputId": "a3414bcc-fe17-43c3-ca10-58f4adf52ec3"
      },
      "source": [
        "for i in range(1,10):\n",
        "  print(f'{8} X {i} = {8 * i}')"
      ],
      "execution_count": null,
      "outputs": [
        {
          "output_type": "stream",
          "text": [
            "8 X 1 = 8\n",
            "8 X 2 = 16\n",
            "8 X 3 = 24\n",
            "8 X 4 = 32\n",
            "8 X 5 = 40\n",
            "8 X 6 = 48\n",
            "8 X 7 = 56\n",
            "8 X 8 = 64\n",
            "8 X 9 = 72\n"
          ],
          "name": "stdout"
        }
      ]
    },
    {
      "cell_type": "code",
      "metadata": {
        "colab": {
          "base_uri": "https://localhost:8080/"
        },
        "id": "SpmAr5grFTvt",
        "outputId": "aaa4dd47-792b-4902-ce3c-fa4e70bef627"
      },
      "source": [
        "for i in range(1,10):\n",
        "  print(f'{9} X {i} = {9 * i}')"
      ],
      "execution_count": null,
      "outputs": [
        {
          "output_type": "stream",
          "text": [
            "9 X 1 = 9\n",
            "9 X 2 = 18\n",
            "9 X 3 = 27\n",
            "9 X 4 = 36\n",
            "9 X 5 = 45\n",
            "9 X 6 = 54\n",
            "9 X 7 = 63\n",
            "9 X 8 = 72\n",
            "9 X 9 = 81\n"
          ],
          "name": "stdout"
        }
      ]
    },
    {
      "cell_type": "code",
      "metadata": {
        "id": "1poVMZjbFw7k"
      },
      "source": [
        "for 단 in range(2,10):\n",
        " for i in range(1,10):\n",
        "  print(f'{단} X {i} = {단 * i}')"
      ],
      "execution_count": null,
      "outputs": []
    },
    {
      "cell_type": "code",
      "metadata": {
        "colab": {
          "base_uri": "https://localhost:8080/"
        },
        "id": "J56b9j9kGRk8",
        "outputId": "3e615568-1d8b-4c42-d258-4f49c2de6d7f"
      },
      "source": [
        "x = 0\n",
        "while x < 10 :\n",
        " print(x)\n",
        " x += 1"
      ],
      "execution_count": null,
      "outputs": [
        {
          "output_type": "stream",
          "text": [
            "0\n",
            "1\n",
            "2\n",
            "3\n",
            "4\n",
            "5\n",
            "6\n",
            "7\n",
            "8\n",
            "9\n"
          ],
          "name": "stdout"
        }
      ]
    },
    {
      "cell_type": "code",
      "metadata": {
        "colab": {
          "base_uri": "https://localhost:8080/"
        },
        "id": "DfLTVF8AGins",
        "outputId": "e274bca2-4258-4998-ff4c-d07c977d25ae"
      },
      "source": [
        "x = 1\n",
        "while x < 10:\n",
        "  print(f'{2} X {x} = {2 * x}')\n",
        "  x += 1\n",
        "print(x)"
      ],
      "execution_count": null,
      "outputs": [
        {
          "output_type": "stream",
          "text": [
            "2 X 1 = 2\n",
            "2 X 2 = 4\n",
            "2 X 3 = 6\n",
            "2 X 4 = 8\n",
            "2 X 5 = 10\n",
            "2 X 6 = 12\n",
            "2 X 7 = 14\n",
            "2 X 8 = 16\n",
            "2 X 9 = 18\n",
            "10\n"
          ],
          "name": "stdout"
        }
      ]
    },
    {
      "cell_type": "code",
      "metadata": {
        "colab": {
          "base_uri": "https://localhost:8080/"
        },
        "id": "q1KJv18THx50",
        "outputId": "d2f79f7b-ddf9-451e-9c85-c55885738c20"
      },
      "source": [
        "for i in range(1,10):\n",
        "  print(f'{2} X {i} = {2 * i}')\n",
        "print(i)"
      ],
      "execution_count": null,
      "outputs": [
        {
          "output_type": "stream",
          "text": [
            "2 X 1 = 2\n",
            "2 X 2 = 4\n",
            "2 X 3 = 6\n",
            "2 X 4 = 8\n",
            "2 X 5 = 10\n",
            "2 X 6 = 12\n",
            "2 X 7 = 14\n",
            "2 X 8 = 16\n",
            "2 X 9 = 18\n",
            "9\n"
          ],
          "name": "stdout"
        }
      ]
    },
    {
      "cell_type": "markdown",
      "metadata": {
        "id": "JXc83LLwH8f0"
      },
      "source": [
        "## 모듈"
      ]
    },
    {
      "cell_type": "code",
      "metadata": {
        "id": "hOxWh2NZH-wk"
      },
      "source": [
        "# filename = test.py\n",
        "# name = 'leehojun'\n",
        "# age = 10"
      ],
      "execution_count": null,
      "outputs": []
    },
    {
      "cell_type": "code",
      "metadata": {
        "colab": {
          "base_uri": "https://localhost:8080/"
        },
        "id": "F4D2rbw2IOcE",
        "outputId": "cf01a2c2-f695-46b1-d8a3-a503d75bc2cd"
      },
      "source": [
        "# impot test\n",
        "import test as t\n",
        "\n",
        "print(t.name)\n",
        "print(t.age)"
      ],
      "execution_count": null,
      "outputs": [
        {
          "output_type": "stream",
          "text": [
            "leehojun\n",
            "10\n"
          ],
          "name": "stdout"
        }
      ]
    },
    {
      "cell_type": "code",
      "metadata": {
        "colab": {
          "base_uri": "https://localhost:8080/"
        },
        "id": "64lfDqeLKP5W",
        "outputId": "725a633d-1c53-4560-cc8d-8ad01c76618e"
      },
      "source": [
        "from test import name, age\n",
        "\n",
        "print(name)\n",
        "print(age)"
      ],
      "execution_count": null,
      "outputs": [
        {
          "output_type": "stream",
          "text": [
            "leehojun\n",
            "10\n"
          ],
          "name": "stdout"
        }
      ]
    },
    {
      "cell_type": "markdown",
      "metadata": {
        "id": "-uUHuc3C7rU2"
      },
      "source": [
        "## 함수\n",
        "\n",
        "1. 재사용성을 높일 수 잇다.\n",
        "2.코드의 구조를 파악하기 쉽다.\n",
        "3. 유지보수를 쉽게할 수 있다."
      ]
    },
    {
      "cell_type": "code",
      "metadata": {
        "colab": {
          "base_uri": "https://localhost:8080/"
        },
        "id": "15YoZVyB7s4O",
        "outputId": "c67d752f-5fdd-4e9d-d1f6-da96a4f3ef6e"
      },
      "source": [
        "def 더하기(x,y):\n",
        "  return x + y\n",
        "\n",
        "더하기(10,20)"
      ],
      "execution_count": null,
      "outputs": [
        {
          "output_type": "execute_result",
          "data": {
            "text/plain": [
              "30"
            ]
          },
          "metadata": {
            "tags": []
          },
          "execution_count": 9
        }
      ]
    },
    {
      "cell_type": "code",
      "metadata": {
        "colab": {
          "base_uri": "https://localhost:8080/"
        },
        "id": "cjC2ejMY8IIX",
        "outputId": "9ef72c15-4d0a-4df9-c958-3bba31ad2c89"
      },
      "source": [
        "def 원의넓이(r):\n",
        "  return(r**2) * 3.14\n",
        "\n",
        "print(원의넓이(10) + 100)\n",
        "print(원의넓이(10) + 50)"
      ],
      "execution_count": null,
      "outputs": [
        {
          "output_type": "stream",
          "text": [
            "414.0\n",
            "364.0\n"
          ],
          "name": "stdout"
        }
      ]
    },
    {
      "cell_type": "code",
      "metadata": {
        "colab": {
          "base_uri": "https://localhost:8080/"
        },
        "id": "AGgxym348d33",
        "outputId": "7c9e1ff2-e81c-4c46-8c6b-5491feff6f80"
      },
      "source": [
        "점수 =[10,20,30,40]\n",
        "def 평균(반점수):\n",
        "  s = 0\n",
        "  for i in 반점수:\n",
        "    s += i\n",
        "  return s / len(반점수)\n",
        "\n",
        "print(평균(점수))\n",
        "print(평균(점수) + 5)    "
      ],
      "execution_count": null,
      "outputs": [
        {
          "output_type": "stream",
          "text": [
            "25.0\n",
            "30.0\n"
          ],
          "name": "stdout"
        }
      ]
    },
    {
      "cell_type": "markdown",
      "metadata": {
        "id": "DsMyCq51K6Mq"
      },
      "source": [
        "## 파일 입출력"
      ]
    },
    {
      "cell_type": "code",
      "metadata": {
        "id": "8l_V4TnXK9BH"
      },
      "source": [
        "f = open(\"구구단.txt\",'w') # r(읽음), w(작성, 덮어씀), a (추가)\n",
        "data = ''\n",
        "for 단 in range(2,10):\n",
        " for i in range(1,10):\n",
        "  data += f'{단} X {i} = {단 * i}\\n'\n",
        "f.write(data)\n",
        "f.close()"
      ],
      "execution_count": null,
      "outputs": []
    },
    {
      "cell_type": "markdown",
      "metadata": {
        "id": "NArgkdIl30Un"
      },
      "source": [
        "## 클래스\n",
        "\n",
        "* 현실세계의 개념을 code로 옮겨놓은 것\n",
        "* 클래스의 첫 문자열을 대문자로 합니다"
      ]
    },
    {
      "cell_type": "code",
      "metadata": {
        "id": "9SdT04aZ33eX"
      },
      "source": [
        "class Car: \n",
        "  # 클래스 변수 또는 맴버\n",
        "    maxspeed = 300\n",
        "    maxpeople = 5\n",
        "    #매서드\n",
        "    def start(self):\n",
        "      print('출발하였습니다.')\n",
        "\n",
        "    def stop(self):\n",
        "      print('멈췄습니다.')\n",
        "    "
      ],
      "execution_count": null,
      "outputs": []
    },
    {
      "cell_type": "code",
      "metadata": {
        "colab": {
          "base_uri": "https://localhost:8080/"
        },
        "id": "gsbAkqH-5VaQ",
        "outputId": "22786289-bcc8-4d48-c1f9-8b79d96f924c"
      },
      "source": [
        "audi = Car() # audi라는 인스턴스 생성\n",
        "bmw = Car() # bmw라는 인스턴스 생성\n",
        "\n",
        "audi.start()\n",
        "print(audi.maxpeople)\n",
        "print(Car.maxspeed) # 이렇게 실행하시면 안됩니다."
      ],
      "execution_count": null,
      "outputs": [
        {
          "output_type": "stream",
          "text": [
            "출발하였습니다.\n",
            "5\n",
            "300\n"
          ],
          "name": "stdout"
        }
      ]
    },
    {
      "cell_type": "code",
      "metadata": {
        "colab": {
          "base_uri": "https://localhost:8080/"
        },
        "id": "khFokinq6g83",
        "outputId": "7a1dccc1-f816-45e1-cec5-1ebfef9cef13"
      },
      "source": [
        "dir(audi)"
      ],
      "execution_count": null,
      "outputs": [
        {
          "output_type": "execute_result",
          "data": {
            "text/plain": [
              "['__class__',\n",
              " '__delattr__',\n",
              " '__dict__',\n",
              " '__dir__',\n",
              " '__doc__',\n",
              " '__eq__',\n",
              " '__format__',\n",
              " '__ge__',\n",
              " '__getattribute__',\n",
              " '__gt__',\n",
              " '__hash__',\n",
              " '__init__',\n",
              " '__init_subclass__',\n",
              " '__le__',\n",
              " '__lt__',\n",
              " '__module__',\n",
              " '__ne__',\n",
              " '__new__',\n",
              " '__reduce__',\n",
              " '__reduce_ex__',\n",
              " '__repr__',\n",
              " '__setattr__',\n",
              " '__sizeof__',\n",
              " '__str__',\n",
              " '__subclasshook__',\n",
              " '__weakref__',\n",
              " 'maxpeople',\n",
              " 'maxspeed',\n",
              " 'start',\n",
              " 'stop']"
            ]
          },
          "metadata": {
            "tags": []
          },
          "execution_count": 8
        }
      ]
    },
    {
      "cell_type": "code",
      "metadata": {
        "colab": {
          "base_uri": "https://localhost:8080/"
        },
        "id": "wHybWPVY6vmO",
        "outputId": "60bf4b43-8af2-40f6-84e4-90241cc50d88"
      },
      "source": [
        "class 전기차(Car):\n",
        "  배터리 = 100\n",
        "  배터리에_따라_갈_수_있는_거리 = 300\n",
        "\n",
        "전기차audi = 전기차()\n",
        "전기차audi.start()"
      ],
      "execution_count": null,
      "outputs": [
        {
          "output_type": "stream",
          "text": [
            "출발하였습니다.\n"
          ],
          "name": "stdout"
        }
      ]
    }
  ]
}